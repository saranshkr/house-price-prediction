{
 "cells": [
  {
   "cell_type": "markdown",
   "metadata": {},
   "source": [
    "# House Price Prediction"
   ]
  },
  {
   "cell_type": "markdown",
   "metadata": {},
   "source": [
    "### Importing Libraries"
   ]
  },
  {
   "cell_type": "code",
   "execution_count": 1,
   "metadata": {},
   "outputs": [],
   "source": [
    "import pandas as pd\n",
    "import numpy as np\n",
    "import seaborn as sns\n",
    "import matplotlib.pyplot as plt\n",
    "\n",
    "from sklearn.linear_model import LinearRegression, Lasso, Ridge\n",
    "from sklearn.metrics import r2_score, mean_squared_error, mean_absolute_error\n",
    "from sklearn.model_selection import train_test_split, cross_val_score, KFold\n",
    "from sklearn.pipeline import Pipeline\n",
    "from sklearn.preprocessing import StandardScaler\n"
   ]
  },
  {
   "cell_type": "markdown",
   "metadata": {},
   "source": [
    "### Exploratory Data Analysis and Cleaning"
   ]
  },
  {
   "cell_type": "code",
   "execution_count": 2,
   "metadata": {},
   "outputs": [
    {
     "data": {
      "text/plain": [
       "(18565, 10)"
      ]
     },
     "execution_count": 2,
     "metadata": {},
     "output_type": "execute_result"
    }
   ],
   "source": [
    "df = pd.read_excel('dataset/house-prices-dataset.xlsx')\n",
    "df.shape"
   ]
  },
  {
   "cell_type": "code",
   "execution_count": 3,
   "metadata": {},
   "outputs": [
    {
     "data": {
      "text/html": [
       "<div>\n",
       "<style scoped>\n",
       "    .dataframe tbody tr th:only-of-type {\n",
       "        vertical-align: middle;\n",
       "    }\n",
       "\n",
       "    .dataframe tbody tr th {\n",
       "        vertical-align: top;\n",
       "    }\n",
       "\n",
       "    .dataframe thead th {\n",
       "        text-align: right;\n",
       "    }\n",
       "</style>\n",
       "<table border=\"1\" class=\"dataframe\">\n",
       "  <thead>\n",
       "    <tr style=\"text-align: right;\">\n",
       "      <th></th>\n",
       "      <th>longitude</th>\n",
       "      <th>latitude</th>\n",
       "      <th>housing_median_age</th>\n",
       "      <th>total_rooms</th>\n",
       "      <th>total_bedrooms</th>\n",
       "      <th>population</th>\n",
       "      <th>households</th>\n",
       "      <th>median_income</th>\n",
       "      <th>median_house_value</th>\n",
       "      <th>ocean_proximity</th>\n",
       "    </tr>\n",
       "  </thead>\n",
       "  <tbody>\n",
       "    <tr>\n",
       "      <th>0</th>\n",
       "      <td>-122.23</td>\n",
       "      <td>37.88</td>\n",
       "      <td>41</td>\n",
       "      <td>880</td>\n",
       "      <td>129.0</td>\n",
       "      <td>322</td>\n",
       "      <td>126</td>\n",
       "      <td>8.3252</td>\n",
       "      <td>452600</td>\n",
       "      <td>NEAR BAY</td>\n",
       "    </tr>\n",
       "    <tr>\n",
       "      <th>1</th>\n",
       "      <td>-122.22</td>\n",
       "      <td>37.86</td>\n",
       "      <td>21</td>\n",
       "      <td>7099</td>\n",
       "      <td>1106.0</td>\n",
       "      <td>2401</td>\n",
       "      <td>1138</td>\n",
       "      <td>8.3014</td>\n",
       "      <td>358500</td>\n",
       "      <td>NEAR BAY</td>\n",
       "    </tr>\n",
       "    <tr>\n",
       "      <th>2</th>\n",
       "      <td>-122.25</td>\n",
       "      <td>37.85</td>\n",
       "      <td>52</td>\n",
       "      <td>1627</td>\n",
       "      <td>280.0</td>\n",
       "      <td>565</td>\n",
       "      <td>259</td>\n",
       "      <td>3.8462</td>\n",
       "      <td>342200</td>\n",
       "      <td>NEAR BAY</td>\n",
       "    </tr>\n",
       "    <tr>\n",
       "      <th>3</th>\n",
       "      <td>-122.25</td>\n",
       "      <td>37.85</td>\n",
       "      <td>52</td>\n",
       "      <td>919</td>\n",
       "      <td>213.0</td>\n",
       "      <td>413</td>\n",
       "      <td>193</td>\n",
       "      <td>4.0368</td>\n",
       "      <td>269700</td>\n",
       "      <td>NEAR BAY</td>\n",
       "    </tr>\n",
       "    <tr>\n",
       "      <th>4</th>\n",
       "      <td>-122.25</td>\n",
       "      <td>37.84</td>\n",
       "      <td>52</td>\n",
       "      <td>2535</td>\n",
       "      <td>489.0</td>\n",
       "      <td>1094</td>\n",
       "      <td>514</td>\n",
       "      <td>3.6591</td>\n",
       "      <td>299200</td>\n",
       "      <td>NEAR BAY</td>\n",
       "    </tr>\n",
       "  </tbody>\n",
       "</table>\n",
       "</div>"
      ],
      "text/plain": [
       "   longitude  latitude  housing_median_age  total_rooms  total_bedrooms  \\\n",
       "0    -122.23     37.88                  41          880           129.0   \n",
       "1    -122.22     37.86                  21         7099          1106.0   \n",
       "2    -122.25     37.85                  52         1627           280.0   \n",
       "3    -122.25     37.85                  52          919           213.0   \n",
       "4    -122.25     37.84                  52         2535           489.0   \n",
       "\n",
       "   population  households  median_income  median_house_value ocean_proximity  \n",
       "0         322         126         8.3252              452600        NEAR BAY  \n",
       "1        2401        1138         8.3014              358500        NEAR BAY  \n",
       "2         565         259         3.8462              342200        NEAR BAY  \n",
       "3         413         193         4.0368              269700        NEAR BAY  \n",
       "4        1094         514         3.6591              299200        NEAR BAY  "
      ]
     },
     "execution_count": 3,
     "metadata": {},
     "output_type": "execute_result"
    }
   ],
   "source": [
    "df.head()"
   ]
  },
  {
   "cell_type": "code",
   "execution_count": 4,
   "metadata": {},
   "outputs": [
    {
     "data": {
      "text/html": [
       "<div>\n",
       "<style scoped>\n",
       "    .dataframe tbody tr th:only-of-type {\n",
       "        vertical-align: middle;\n",
       "    }\n",
       "\n",
       "    .dataframe tbody tr th {\n",
       "        vertical-align: top;\n",
       "    }\n",
       "\n",
       "    .dataframe thead th {\n",
       "        text-align: right;\n",
       "    }\n",
       "</style>\n",
       "<table border=\"1\" class=\"dataframe\">\n",
       "  <thead>\n",
       "    <tr style=\"text-align: right;\">\n",
       "      <th></th>\n",
       "      <th>longitude</th>\n",
       "      <th>latitude</th>\n",
       "      <th>housing_median_age</th>\n",
       "      <th>total_rooms</th>\n",
       "      <th>total_bedrooms</th>\n",
       "      <th>population</th>\n",
       "      <th>households</th>\n",
       "      <th>median_income</th>\n",
       "      <th>median_house_value</th>\n",
       "    </tr>\n",
       "  </thead>\n",
       "  <tbody>\n",
       "    <tr>\n",
       "      <th>count</th>\n",
       "      <td>18565.000000</td>\n",
       "      <td>18565.000000</td>\n",
       "      <td>18565.000000</td>\n",
       "      <td>18565.000000</td>\n",
       "      <td>18376.000000</td>\n",
       "      <td>18565.000000</td>\n",
       "      <td>18565.000000</td>\n",
       "      <td>18565.000000</td>\n",
       "      <td>18565.000000</td>\n",
       "    </tr>\n",
       "    <tr>\n",
       "      <th>mean</th>\n",
       "      <td>-119.570116</td>\n",
       "      <td>35.633888</td>\n",
       "      <td>28.615890</td>\n",
       "      <td>2634.033827</td>\n",
       "      <td>537.711199</td>\n",
       "      <td>1426.223108</td>\n",
       "      <td>499.450902</td>\n",
       "      <td>3.867012</td>\n",
       "      <td>206617.794991</td>\n",
       "    </tr>\n",
       "    <tr>\n",
       "      <th>std</th>\n",
       "      <td>2.002922</td>\n",
       "      <td>2.137014</td>\n",
       "      <td>12.564224</td>\n",
       "      <td>2195.915548</td>\n",
       "      <td>424.125849</td>\n",
       "      <td>1142.570832</td>\n",
       "      <td>384.553175</td>\n",
       "      <td>1.895988</td>\n",
       "      <td>115447.104881</td>\n",
       "    </tr>\n",
       "    <tr>\n",
       "      <th>min</th>\n",
       "      <td>-124.350000</td>\n",
       "      <td>32.540000</td>\n",
       "      <td>1.000000</td>\n",
       "      <td>2.000000</td>\n",
       "      <td>2.000000</td>\n",
       "      <td>3.000000</td>\n",
       "      <td>2.000000</td>\n",
       "      <td>0.499900</td>\n",
       "      <td>14999.000000</td>\n",
       "    </tr>\n",
       "    <tr>\n",
       "      <th>25%</th>\n",
       "      <td>-121.800000</td>\n",
       "      <td>33.930000</td>\n",
       "      <td>18.000000</td>\n",
       "      <td>1442.000000</td>\n",
       "      <td>295.000000</td>\n",
       "      <td>786.000000</td>\n",
       "      <td>279.000000</td>\n",
       "      <td>2.561200</td>\n",
       "      <td>119300.000000</td>\n",
       "    </tr>\n",
       "    <tr>\n",
       "      <th>50%</th>\n",
       "      <td>-118.500000</td>\n",
       "      <td>34.260000</td>\n",
       "      <td>29.000000</td>\n",
       "      <td>2123.000000</td>\n",
       "      <td>434.000000</td>\n",
       "      <td>1166.000000</td>\n",
       "      <td>408.000000</td>\n",
       "      <td>3.534100</td>\n",
       "      <td>179400.000000</td>\n",
       "    </tr>\n",
       "    <tr>\n",
       "      <th>75%</th>\n",
       "      <td>-118.010000</td>\n",
       "      <td>37.710000</td>\n",
       "      <td>37.000000</td>\n",
       "      <td>3141.000000</td>\n",
       "      <td>646.000000</td>\n",
       "      <td>1725.000000</td>\n",
       "      <td>603.000000</td>\n",
       "      <td>4.741100</td>\n",
       "      <td>264400.000000</td>\n",
       "    </tr>\n",
       "    <tr>\n",
       "      <th>max</th>\n",
       "      <td>-114.310000</td>\n",
       "      <td>41.950000</td>\n",
       "      <td>52.000000</td>\n",
       "      <td>39320.000000</td>\n",
       "      <td>6445.000000</td>\n",
       "      <td>35682.000000</td>\n",
       "      <td>6082.000000</td>\n",
       "      <td>15.000100</td>\n",
       "      <td>500001.000000</td>\n",
       "    </tr>\n",
       "  </tbody>\n",
       "</table>\n",
       "</div>"
      ],
      "text/plain": [
       "          longitude      latitude  housing_median_age   total_rooms  \\\n",
       "count  18565.000000  18565.000000        18565.000000  18565.000000   \n",
       "mean    -119.570116     35.633888           28.615890   2634.033827   \n",
       "std        2.002922      2.137014           12.564224   2195.915548   \n",
       "min     -124.350000     32.540000            1.000000      2.000000   \n",
       "25%     -121.800000     33.930000           18.000000   1442.000000   \n",
       "50%     -118.500000     34.260000           29.000000   2123.000000   \n",
       "75%     -118.010000     37.710000           37.000000   3141.000000   \n",
       "max     -114.310000     41.950000           52.000000  39320.000000   \n",
       "\n",
       "       total_bedrooms    population    households  median_income  \\\n",
       "count    18376.000000  18565.000000  18565.000000   18565.000000   \n",
       "mean       537.711199   1426.223108    499.450902       3.867012   \n",
       "std        424.125849   1142.570832    384.553175       1.895988   \n",
       "min          2.000000      3.000000      2.000000       0.499900   \n",
       "25%        295.000000    786.000000    279.000000       2.561200   \n",
       "50%        434.000000   1166.000000    408.000000       3.534100   \n",
       "75%        646.000000   1725.000000    603.000000       4.741100   \n",
       "max       6445.000000  35682.000000   6082.000000      15.000100   \n",
       "\n",
       "       median_house_value  \n",
       "count        18565.000000  \n",
       "mean        206617.794991  \n",
       "std         115447.104881  \n",
       "min          14999.000000  \n",
       "25%         119300.000000  \n",
       "50%         179400.000000  \n",
       "75%         264400.000000  \n",
       "max         500001.000000  "
      ]
     },
     "execution_count": 4,
     "metadata": {},
     "output_type": "execute_result"
    }
   ],
   "source": [
    "df.describe()"
   ]
  },
  {
   "cell_type": "code",
   "execution_count": 5,
   "metadata": {},
   "outputs": [
    {
     "data": {
      "text/plain": [
       "longitude               0\n",
       "latitude                0\n",
       "housing_median_age      0\n",
       "total_rooms             0\n",
       "total_bedrooms        189\n",
       "population              0\n",
       "households              0\n",
       "median_income           0\n",
       "median_house_value      0\n",
       "ocean_proximity         0\n",
       "dtype: int64"
      ]
     },
     "execution_count": 5,
     "metadata": {},
     "output_type": "execute_result"
    }
   ],
   "source": [
    "df.isnull().sum()"
   ]
  },
  {
   "cell_type": "code",
   "execution_count": 6,
   "metadata": {},
   "outputs": [],
   "source": [
    "df['total_bedrooms'].fillna(df['total_bedrooms'].median(), inplace=True)"
   ]
  },
  {
   "cell_type": "code",
   "execution_count": 7,
   "metadata": {},
   "outputs": [
    {
     "data": {
      "image/png": "[encoded data removed]",
      "text/plain": [
       "<Figure size 1296x720 with 9 Axes>"
      ]
     },
     "metadata": {
      "needs_background": "light"
     },
     "output_type": "display_data"
    }
   ],
   "source": [
    "df.hist(bins=100, figsize=(18,10))\n",
    "plt.show()"
   ]
  },
  {
   "cell_type": "code",
   "execution_count": 8,
   "metadata": {},
   "outputs": [
    {
     "data": {
      "text/plain": [
       "count     18565.000000\n",
       "mean     206617.794991\n",
       "std      115447.104881\n",
       "min       14999.000000\n",
       "25%      119300.000000\n",
       "50%      179400.000000\n",
       "75%      264400.000000\n",
       "max      500001.000000\n",
       "Name: median_house_value, dtype: float64"
      ]
     },
     "execution_count": 8,
     "metadata": {},
     "output_type": "execute_result"
    }
   ],
   "source": [
    "df['median_house_value'].describe()"
   ]
  },
  {
   "cell_type": "code",
   "execution_count": 9,
   "metadata": {},
   "outputs": [
    {
     "data": {
      "text/plain": [
       "(17697, 10)"
      ]
     },
     "execution_count": 9,
     "metadata": {},
     "output_type": "execute_result"
    }
   ],
   "source": [
    "df.drop(df[df.median_house_value > 500000].index, inplace=True)\n",
    "df.shape"
   ]
  },
  {
   "cell_type": "code",
   "execution_count": 10,
   "metadata": {},
   "outputs": [
    {
     "data": {
      "text/plain": [
       "<AxesSubplot:xlabel='ocean_proximity', ylabel='median_house_value'>"
      ]
     },
     "execution_count": 10,
     "metadata": {},
     "output_type": "execute_result"
    },
    {
     "data": {
      "image/png": "[encoded data removed]",
      "text/plain": [
       "<Figure size 432x288 with 1 Axes>"
      ]
     },
     "metadata": {
      "needs_background": "light"
     },
     "output_type": "display_data"
    }
   ],
   "source": [
    "sns.boxplot(x='ocean_proximity', y='median_house_value', data=df)"
   ]
  },
  {
   "cell_type": "code",
   "execution_count": 11,
   "metadata": {},
   "outputs": [
    {
     "data": {
      "image/png": "[encoded data removed]",
      "text/plain": [
       "<Figure size 720x576 with 1 Axes>"
      ]
     },
     "metadata": {
      "needs_background": "light"
     },
     "output_type": "display_data"
    }
   ],
   "source": [
    "fig, ax = plt.subplots(figsize=(10,8))\n",
    "sns.scatterplot(x='latitude', y='longitude', data=df, hue='median_house_value', palette='icefire', s=10, ax=ax)\n",
    "plt.show()"
   ]
  },
  {
   "cell_type": "code",
   "execution_count": 12,
   "metadata": {},
   "outputs": [
    {
     "data": {
      "image/png": "[encoded data removed]",
      "text/plain": [
       "<Figure size 576x576 with 1 Axes>"
      ]
     },
     "metadata": {
      "needs_background": "light"
     },
     "output_type": "display_data"
    }
   ],
   "source": [
    "df.plot(kind='scatter', x='median_income', y='median_house_value', s=3, figsize=(8, 8))\n",
    "plt.show()"
   ]
  },
  {
   "cell_type": "code",
   "execution_count": 13,
   "metadata": {},
   "outputs": [
    {
     "data": {
      "text/plain": [
       "count    17697.000000\n",
       "mean        28.375035\n",
       "std         12.489272\n",
       "min          1.000000\n",
       "25%         18.000000\n",
       "50%         28.000000\n",
       "75%         37.000000\n",
       "max         52.000000\n",
       "Name: housing_median_age, dtype: float64"
      ]
     },
     "execution_count": 13,
     "metadata": {},
     "output_type": "execute_result"
    }
   ],
   "source": [
    "df.housing_median_age.describe()"
   ]
  },
  {
   "cell_type": "code",
   "execution_count": 14,
   "metadata": {},
   "outputs": [
    {
     "data": {
      "text/plain": [
       "Index(['longitude', 'latitude', 'housing_median_age', 'total_rooms',\n",
       "       'total_bedrooms', 'population', 'households', 'median_income',\n",
       "       'median_house_value', 'ocean_proximity'],\n",
       "      dtype='object')"
      ]
     },
     "execution_count": 14,
     "metadata": {},
     "output_type": "execute_result"
    }
   ],
   "source": [
    "df.columns"
   ]
  },
  {
   "cell_type": "code",
   "execution_count": 15,
   "metadata": {},
   "outputs": [],
   "source": [
    "df['rooms_per_house'] = df.total_rooms/df.households\n",
    "df['bedrooms_per_house'] = df.total_bedrooms/df.households\n",
    "df['pop_per_house'] = df.population/df.households"
   ]
  },
  {
   "cell_type": "code",
   "execution_count": 16,
   "metadata": {},
   "outputs": [
    {
     "data": {
      "image/png": "[encoded data removed]",
      "text/plain": [
       "<Figure size 1008x576 with 2 Axes>"
      ]
     },
     "metadata": {
      "needs_background": "light"
     },
     "output_type": "display_data"
    }
   ],
   "source": [
    "plt.figure(figsize = (14,8))\n",
    "plt.title('Correlation Heatmap')\n",
    "corr = sns.heatmap(df.corr(), annot=True)"
   ]
  },
  {
   "cell_type": "code",
   "execution_count": 17,
   "metadata": {},
   "outputs": [
    {
     "data": {
      "text/html": [
       "<div>\n",
       "<style scoped>\n",
       "    .dataframe tbody tr th:only-of-type {\n",
       "        vertical-align: middle;\n",
       "    }\n",
       "\n",
       "    .dataframe tbody tr th {\n",
       "        vertical-align: top;\n",
       "    }\n",
       "\n",
       "    .dataframe thead th {\n",
       "        text-align: right;\n",
       "    }\n",
       "</style>\n",
       "<table border=\"1\" class=\"dataframe\">\n",
       "  <thead>\n",
       "    <tr style=\"text-align: right;\">\n",
       "      <th></th>\n",
       "      <th>longitude</th>\n",
       "      <th>latitude</th>\n",
       "      <th>housing_median_age</th>\n",
       "      <th>total_rooms</th>\n",
       "      <th>total_bedrooms</th>\n",
       "      <th>population</th>\n",
       "      <th>households</th>\n",
       "      <th>median_income</th>\n",
       "      <th>median_house_value</th>\n",
       "      <th>ocean_proximity</th>\n",
       "      <th>rooms_per_house</th>\n",
       "      <th>bedrooms_per_house</th>\n",
       "      <th>pop_per_house</th>\n",
       "      <th>&lt;1H OCEAN</th>\n",
       "      <th>INLAND</th>\n",
       "      <th>ISLAND</th>\n",
       "      <th>NEAR BAY</th>\n",
       "      <th>NEAR OCEAN</th>\n",
       "    </tr>\n",
       "  </thead>\n",
       "  <tbody>\n",
       "    <tr>\n",
       "      <th>0</th>\n",
       "      <td>-122.23</td>\n",
       "      <td>37.88</td>\n",
       "      <td>41</td>\n",
       "      <td>880</td>\n",
       "      <td>129.0</td>\n",
       "      <td>322</td>\n",
       "      <td>126</td>\n",
       "      <td>8.3252</td>\n",
       "      <td>452600</td>\n",
       "      <td>NEAR BAY</td>\n",
       "      <td>6.984127</td>\n",
       "      <td>1.023810</td>\n",
       "      <td>2.555556</td>\n",
       "      <td>0</td>\n",
       "      <td>0</td>\n",
       "      <td>0</td>\n",
       "      <td>1</td>\n",
       "      <td>0</td>\n",
       "    </tr>\n",
       "    <tr>\n",
       "      <th>1</th>\n",
       "      <td>-122.22</td>\n",
       "      <td>37.86</td>\n",
       "      <td>21</td>\n",
       "      <td>7099</td>\n",
       "      <td>1106.0</td>\n",
       "      <td>2401</td>\n",
       "      <td>1138</td>\n",
       "      <td>8.3014</td>\n",
       "      <td>358500</td>\n",
       "      <td>NEAR BAY</td>\n",
       "      <td>6.238137</td>\n",
       "      <td>0.971880</td>\n",
       "      <td>2.109842</td>\n",
       "      <td>0</td>\n",
       "      <td>0</td>\n",
       "      <td>0</td>\n",
       "      <td>1</td>\n",
       "      <td>0</td>\n",
       "    </tr>\n",
       "    <tr>\n",
       "      <th>2</th>\n",
       "      <td>-122.25</td>\n",
       "      <td>37.85</td>\n",
       "      <td>52</td>\n",
       "      <td>1627</td>\n",
       "      <td>280.0</td>\n",
       "      <td>565</td>\n",
       "      <td>259</td>\n",
       "      <td>3.8462</td>\n",
       "      <td>342200</td>\n",
       "      <td>NEAR BAY</td>\n",
       "      <td>6.281853</td>\n",
       "      <td>1.081081</td>\n",
       "      <td>2.181467</td>\n",
       "      <td>0</td>\n",
       "      <td>0</td>\n",
       "      <td>0</td>\n",
       "      <td>1</td>\n",
       "      <td>0</td>\n",
       "    </tr>\n",
       "    <tr>\n",
       "      <th>3</th>\n",
       "      <td>-122.25</td>\n",
       "      <td>37.85</td>\n",
       "      <td>52</td>\n",
       "      <td>919</td>\n",
       "      <td>213.0</td>\n",
       "      <td>413</td>\n",
       "      <td>193</td>\n",
       "      <td>4.0368</td>\n",
       "      <td>269700</td>\n",
       "      <td>NEAR BAY</td>\n",
       "      <td>4.761658</td>\n",
       "      <td>1.103627</td>\n",
       "      <td>2.139896</td>\n",
       "      <td>0</td>\n",
       "      <td>0</td>\n",
       "      <td>0</td>\n",
       "      <td>1</td>\n",
       "      <td>0</td>\n",
       "    </tr>\n",
       "    <tr>\n",
       "      <th>4</th>\n",
       "      <td>-122.25</td>\n",
       "      <td>37.84</td>\n",
       "      <td>52</td>\n",
       "      <td>2535</td>\n",
       "      <td>489.0</td>\n",
       "      <td>1094</td>\n",
       "      <td>514</td>\n",
       "      <td>3.6591</td>\n",
       "      <td>299200</td>\n",
       "      <td>NEAR BAY</td>\n",
       "      <td>4.931907</td>\n",
       "      <td>0.951362</td>\n",
       "      <td>2.128405</td>\n",
       "      <td>0</td>\n",
       "      <td>0</td>\n",
       "      <td>0</td>\n",
       "      <td>1</td>\n",
       "      <td>0</td>\n",
       "    </tr>\n",
       "  </tbody>\n",
       "</table>\n",
       "</div>"
      ],
      "text/plain": [
       "   longitude  latitude  housing_median_age  total_rooms  total_bedrooms  \\\n",
       "0    -122.23     37.88                  41          880           129.0   \n",
       "1    -122.22     37.86                  21         7099          1106.0   \n",
       "2    -122.25     37.85                  52         1627           280.0   \n",
       "3    -122.25     37.85                  52          919           213.0   \n",
       "4    -122.25     37.84                  52         2535           489.0   \n",
       "\n",
       "   population  households  median_income  median_house_value ocean_proximity  \\\n",
       "0         322         126         8.3252              452600        NEAR BAY   \n",
       "1        2401        1138         8.3014              358500        NEAR BAY   \n",
       "2         565         259         3.8462              342200        NEAR BAY   \n",
       "3         413         193         4.0368              269700        NEAR BAY   \n",
       "4        1094         514         3.6591              299200        NEAR BAY   \n",
       "\n",
       "   rooms_per_house  bedrooms_per_house  pop_per_house  <1H OCEAN  INLAND  \\\n",
       "0         6.984127            1.023810       2.555556          0       0   \n",
       "1         6.238137            0.971880       2.109842          0       0   \n",
       "2         6.281853            1.081081       2.181467          0       0   \n",
       "3         4.761658            1.103627       2.139896          0       0   \n",
       "4         4.931907            0.951362       2.128405          0       0   \n",
       "\n",
       "   ISLAND  NEAR BAY  NEAR OCEAN  \n",
       "0       0         1           0  \n",
       "1       0         1           0  \n",
       "2       0         1           0  \n",
       "3       0         1           0  \n",
       "4       0         1           0  "
      ]
     },
     "execution_count": 17,
     "metadata": {},
     "output_type": "execute_result"
    }
   ],
   "source": [
    "dummies = pd.get_dummies(df.ocean_proximity)\n",
    "df = pd.concat([df, dummies], axis=1)\n",
    "df.head()"
   ]
  },
  {
   "cell_type": "code",
   "execution_count": 18,
   "metadata": {},
   "outputs": [
    {
     "data": {
      "image/png": "[encoded data removed]",
      "text/plain": [
       "<Figure size 1152x576 with 2 Axes>"
      ]
     },
     "metadata": {
      "needs_background": "light"
     },
     "output_type": "display_data"
    }
   ],
   "source": [
    "plt.figure(figsize = (16,8))\n",
    "plt.title('Correlation Heatmap')\n",
    "corr = sns.heatmap(df.corr())"
   ]
  },
  {
   "cell_type": "code",
   "execution_count": 19,
   "metadata": {},
   "outputs": [
    {
     "data": {
      "text/plain": [
       "Index(['longitude', 'latitude', 'housing_median_age', 'total_rooms',\n",
       "       'total_bedrooms', 'population', 'households', 'median_income',\n",
       "       'median_house_value', 'ocean_proximity', 'rooms_per_house',\n",
       "       'bedrooms_per_house', 'pop_per_house', '<1H OCEAN', 'INLAND', 'ISLAND',\n",
       "       'NEAR BAY', 'NEAR OCEAN'],\n",
       "      dtype='object')"
      ]
     },
     "execution_count": 19,
     "metadata": {},
     "output_type": "execute_result"
    }
   ],
   "source": [
    "df.columns"
   ]
  },
  {
   "cell_type": "markdown",
   "metadata": {},
   "source": [
    "## Machine Learning"
   ]
  },
  {
   "cell_type": "markdown",
   "metadata": {},
   "source": [
    "### Segregating dependent and independent variables"
   ]
  },
  {
   "cell_type": "code",
   "execution_count": 20,
   "metadata": {},
   "outputs": [
    {
     "name": "stdout",
     "output_type": "stream",
     "text": [
      "X.shape: (17697, 12)\n",
      "   longitude  latitude  housing_median_age  households  median_income  \\\n",
      "0    -122.23     37.88                  41         126         8.3252   \n",
      "1    -122.22     37.86                  21        1138         8.3014   \n",
      "2    -122.25     37.85                  52         259         3.8462   \n",
      "3    -122.25     37.85                  52         193         4.0368   \n",
      "4    -122.25     37.84                  52         514         3.6591   \n",
      "\n",
      "   rooms_per_house  bedrooms_per_house  pop_per_house  INLAND  ISLAND  \\\n",
      "0         6.984127            1.023810       2.555556       0       0   \n",
      "1         6.238137            0.971880       2.109842       0       0   \n",
      "2         6.281853            1.081081       2.181467       0       0   \n",
      "3         4.761658            1.103627       2.139896       0       0   \n",
      "4         4.931907            0.951362       2.128405       0       0   \n",
      "\n",
      "   NEAR BAY  NEAR OCEAN  \n",
      "0         1           0  \n",
      "1         1           0  \n",
      "2         1           0  \n",
      "3         1           0  \n",
      "4         1           0  \n"
     ]
    }
   ],
   "source": [
    "X = df.drop(['total_rooms', 'total_bedrooms', 'population', 'median_house_value', 'ocean_proximity', '<1H OCEAN'], axis=1)\n",
    "print(f'X.shape: {X.shape}')\n",
    "print(X.head())"
   ]
  },
  {
   "cell_type": "code",
   "execution_count": 21,
   "metadata": {},
   "outputs": [
    {
     "name": "stdout",
     "output_type": "stream",
     "text": [
      "y.shape: (17697, 1)\n",
      "   median_house_value\n",
      "0              452600\n",
      "1              358500\n",
      "2              342200\n",
      "3              269700\n",
      "4              299200\n"
     ]
    }
   ],
   "source": [
    "y = df[['median_house_value']]\n",
    "print(f'y.shape: {y.shape}')\n",
    "print(y.head())"
   ]
  },
  {
   "cell_type": "markdown",
   "metadata": {},
   "source": [
    "### Splitting data into train-test sets"
   ]
  },
  {
   "cell_type": "code",
   "execution_count": 22,
   "metadata": {},
   "outputs": [],
   "source": [
    "X_train, X_test, y_train, y_test = train_test_split(X, y, test_size=0.2, random_state=21)"
   ]
  },
  {
   "cell_type": "markdown",
   "metadata": {},
   "source": [
    "### Normalizing the data"
   ]
  },
  {
   "cell_type": "code",
   "execution_count": 23,
   "metadata": {},
   "outputs": [],
   "source": [
    "scaler = StandardScaler()\n",
    "X_train_scaled = scaler.fit_transform(X_train)\n",
    "X_test_scaled = scaler.transform(X_test)"
   ]
  },
  {
   "cell_type": "code",
   "execution_count": 24,
   "metadata": {},
   "outputs": [
    {
     "name": "stdout",
     "output_type": "stream",
     "text": [
      "X_train_scaled.shape: (14157, 12)\n",
      "X_test_scaled.shape: (3540, 12)\n"
     ]
    }
   ],
   "source": [
    "print(f'X_train_scaled.shape: {X_train_scaled.shape}')\n",
    "print(f'X_test_scaled.shape: {X_test_scaled.shape}')"
   ]
  },
  {
   "cell_type": "code",
   "execution_count": 25,
   "metadata": {},
   "outputs": [],
   "source": [
    "scaler = StandardScaler()\n",
    "y_train_scaled = scaler.fit_transform(y_train)\n",
    "y_test_scaled = scaler.transform(y_test)"
   ]
  },
  {
   "cell_type": "code",
   "execution_count": 26,
   "metadata": {},
   "outputs": [
    {
     "name": "stdout",
     "output_type": "stream",
     "text": [
      "y_train_scaled.shape: (14157, 1)\n",
      "y_test_scaled.shape: (3540, 1)\n"
     ]
    }
   ],
   "source": [
    "print(f'y_train_scaled.shape: {y_train_scaled.shape}')\n",
    "print(f'y_test_scaled.shape: {y_test_scaled.shape}')"
   ]
  },
  {
   "cell_type": "code",
   "execution_count": 27,
   "metadata": {},
   "outputs": [
    {
     "data": {
      "text/html": [
       "<div>\n",
       "<style scoped>\n",
       "    .dataframe tbody tr th:only-of-type {\n",
       "        vertical-align: middle;\n",
       "    }\n",
       "\n",
       "    .dataframe tbody tr th {\n",
       "        vertical-align: top;\n",
       "    }\n",
       "\n",
       "    .dataframe thead th {\n",
       "        text-align: right;\n",
       "    }\n",
       "</style>\n",
       "<table border=\"1\" class=\"dataframe\">\n",
       "  <thead>\n",
       "    <tr style=\"text-align: right;\">\n",
       "      <th></th>\n",
       "      <th>longitude</th>\n",
       "      <th>latitude</th>\n",
       "      <th>housing_median_age</th>\n",
       "      <th>households</th>\n",
       "      <th>median_income</th>\n",
       "      <th>rooms_per_house</th>\n",
       "      <th>bedrooms_per_house</th>\n",
       "      <th>pop_per_house</th>\n",
       "      <th>INLAND</th>\n",
       "      <th>ISLAND</th>\n",
       "      <th>NEAR BAY</th>\n",
       "      <th>NEAR OCEAN</th>\n",
       "    </tr>\n",
       "  </thead>\n",
       "  <tbody>\n",
       "    <tr>\n",
       "      <th>0</th>\n",
       "      <td>0.303798</td>\n",
       "      <td>-0.682286</td>\n",
       "      <td>-0.990323</td>\n",
       "      <td>-0.534716</td>\n",
       "      <td>-1.077759</td>\n",
       "      <td>0.365504</td>\n",
       "      <td>0.176987</td>\n",
       "      <td>-0.095836</td>\n",
       "      <td>-0.707894</td>\n",
       "      <td>-0.018796</td>\n",
       "      <td>-0.341811</td>\n",
       "      <td>-0.379352</td>\n",
       "    </tr>\n",
       "    <tr>\n",
       "      <th>1</th>\n",
       "      <td>1.180166</td>\n",
       "      <td>-1.123251</td>\n",
       "      <td>-1.311504</td>\n",
       "      <td>0.771905</td>\n",
       "      <td>1.633639</td>\n",
       "      <td>0.426600</td>\n",
       "      <td>-1.381559</td>\n",
       "      <td>-0.041018</td>\n",
       "      <td>-0.707894</td>\n",
       "      <td>-0.018796</td>\n",
       "      <td>-0.341811</td>\n",
       "      <td>-0.379352</td>\n",
       "    </tr>\n",
       "    <tr>\n",
       "      <th>2</th>\n",
       "      <td>0.532849</td>\n",
       "      <td>-0.761196</td>\n",
       "      <td>-0.347963</td>\n",
       "      <td>1.139312</td>\n",
       "      <td>-0.568490</td>\n",
       "      <td>-1.074171</td>\n",
       "      <td>-0.058344</td>\n",
       "      <td>-0.129852</td>\n",
       "      <td>-0.707894</td>\n",
       "      <td>-0.018796</td>\n",
       "      <td>-0.341811</td>\n",
       "      <td>-0.379352</td>\n",
       "    </tr>\n",
       "    <tr>\n",
       "      <th>3</th>\n",
       "      <td>0.343633</td>\n",
       "      <td>-0.148487</td>\n",
       "      <td>-0.669143</td>\n",
       "      <td>-0.645973</td>\n",
       "      <td>-0.994367</td>\n",
       "      <td>-0.001034</td>\n",
       "      <td>-0.223187</td>\n",
       "      <td>-0.008553</td>\n",
       "      <td>1.412642</td>\n",
       "      <td>-0.018796</td>\n",
       "      <td>-0.341811</td>\n",
       "      <td>-0.379352</td>\n",
       "    </tr>\n",
       "    <tr>\n",
       "      <th>4</th>\n",
       "      <td>-0.707013</td>\n",
       "      <td>0.928394</td>\n",
       "      <td>0.133808</td>\n",
       "      <td>-0.265630</td>\n",
       "      <td>-1.108614</td>\n",
       "      <td>-0.501817</td>\n",
       "      <td>-0.273900</td>\n",
       "      <td>-0.070222</td>\n",
       "      <td>1.412642</td>\n",
       "      <td>-0.018796</td>\n",
       "      <td>-0.341811</td>\n",
       "      <td>-0.379352</td>\n",
       "    </tr>\n",
       "  </tbody>\n",
       "</table>\n",
       "</div>"
      ],
      "text/plain": [
       "   longitude  latitude  housing_median_age  households  median_income  \\\n",
       "0   0.303798 -0.682286           -0.990323   -0.534716      -1.077759   \n",
       "1   1.180166 -1.123251           -1.311504    0.771905       1.633639   \n",
       "2   0.532849 -0.761196           -0.347963    1.139312      -0.568490   \n",
       "3   0.343633 -0.148487           -0.669143   -0.645973      -0.994367   \n",
       "4  -0.707013  0.928394            0.133808   -0.265630      -1.108614   \n",
       "\n",
       "   rooms_per_house  bedrooms_per_house  pop_per_house    INLAND    ISLAND  \\\n",
       "0         0.365504            0.176987      -0.095836 -0.707894 -0.018796   \n",
       "1         0.426600           -1.381559      -0.041018 -0.707894 -0.018796   \n",
       "2        -1.074171           -0.058344      -0.129852 -0.707894 -0.018796   \n",
       "3        -0.001034           -0.223187      -0.008553  1.412642 -0.018796   \n",
       "4        -0.501817           -0.273900      -0.070222  1.412642 -0.018796   \n",
       "\n",
       "   NEAR BAY  NEAR OCEAN  \n",
       "0 -0.341811   -0.379352  \n",
       "1 -0.341811   -0.379352  \n",
       "2 -0.341811   -0.379352  \n",
       "3 -0.341811   -0.379352  \n",
       "4 -0.341811   -0.379352  "
      ]
     },
     "execution_count": 27,
     "metadata": {},
     "output_type": "execute_result"
    }
   ],
   "source": [
    "pd.DataFrame(X_train_scaled, columns=X_train.columns).head()"
   ]
  },
  {
   "cell_type": "code",
   "execution_count": 28,
   "metadata": {},
   "outputs": [
    {
     "data": {
      "text/html": [
       "<div>\n",
       "<style scoped>\n",
       "    .dataframe tbody tr th:only-of-type {\n",
       "        vertical-align: middle;\n",
       "    }\n",
       "\n",
       "    .dataframe tbody tr th {\n",
       "        vertical-align: top;\n",
       "    }\n",
       "\n",
       "    .dataframe thead th {\n",
       "        text-align: right;\n",
       "    }\n",
       "</style>\n",
       "<table border=\"1\" class=\"dataframe\">\n",
       "  <thead>\n",
       "    <tr style=\"text-align: right;\">\n",
       "      <th></th>\n",
       "      <th>median_house_value</th>\n",
       "    </tr>\n",
       "  </thead>\n",
       "  <tbody>\n",
       "    <tr>\n",
       "      <th>0</th>\n",
       "      <td>-0.304221</td>\n",
       "    </tr>\n",
       "    <tr>\n",
       "      <th>1</th>\n",
       "      <td>1.177208</td>\n",
       "    </tr>\n",
       "    <tr>\n",
       "      <th>2</th>\n",
       "      <td>1.017607</td>\n",
       "    </tr>\n",
       "    <tr>\n",
       "      <th>3</th>\n",
       "      <td>-0.889427</td>\n",
       "    </tr>\n",
       "    <tr>\n",
       "      <th>4</th>\n",
       "      <td>-0.872034</td>\n",
       "    </tr>\n",
       "  </tbody>\n",
       "</table>\n",
       "</div>"
      ],
      "text/plain": [
       "   median_house_value\n",
       "0           -0.304221\n",
       "1            1.177208\n",
       "2            1.017607\n",
       "3           -0.889427\n",
       "4           -0.872034"
      ]
     },
     "execution_count": 28,
     "metadata": {},
     "output_type": "execute_result"
    }
   ],
   "source": [
    "pd.DataFrame(y_train_scaled, columns=y_train.columns).head()"
   ]
  },
  {
   "cell_type": "markdown",
   "metadata": {},
   "source": [
    "### Model selection"
   ]
  },
  {
   "cell_type": "markdown",
   "metadata": {},
   "source": [
    "#### Exploring the statsmodels library"
   ]
  },
  {
   "cell_type": "code",
   "execution_count": 29,
   "metadata": {},
   "outputs": [],
   "source": [
    "import statsmodels.api as sm"
   ]
  },
  {
   "cell_type": "code",
   "execution_count": 30,
   "metadata": {},
   "outputs": [],
   "source": [
    "X_var = sm.add_constant(X_train_scaled)\n",
    "y_var = y_train.reset_index()['median_house_value']\n",
    "model = sm.OLS(y_var, X_var).fit()"
   ]
  },
  {
   "cell_type": "code",
   "execution_count": 31,
   "metadata": {},
   "outputs": [
    {
     "data": {
      "text/html": [
       "<table class=\"simpletable\">\n",
       "<caption>OLS Regression Results</caption>\n",
       "<tr>\n",
       "  <th>Dep. Variable:</th>    <td>median_house_value</td> <th>  R-squared:         </th>  <td>   0.589</td>  \n",
       "</tr>\n",
       "<tr>\n",
       "  <th>Model:</th>                    <td>OLS</td>        <th>  Adj. R-squared:    </th>  <td>   0.589</td>  \n",
       "</tr>\n",
       "<tr>\n",
       "  <th>Method:</th>              <td>Least Squares</td>   <th>  F-statistic:       </th>  <td>   1691.</td>  \n",
       "</tr>\n",
       "<tr>\n",
       "  <th>Date:</th>              <td>Thu, 27 Oct 2022</td>  <th>  Prob (F-statistic):</th>   <td>  0.00</td>   \n",
       "</tr>\n",
       "<tr>\n",
       "  <th>Time:</th>                  <td>11:38:42</td>      <th>  Log-Likelihood:    </th> <td>-1.7645e+05</td>\n",
       "</tr>\n",
       "<tr>\n",
       "  <th>No. Observations:</th>       <td> 14157</td>       <th>  AIC:               </th>  <td>3.529e+05</td> \n",
       "</tr>\n",
       "<tr>\n",
       "  <th>Df Residuals:</th>           <td> 14144</td>       <th>  BIC:               </th>  <td>3.530e+05</td> \n",
       "</tr>\n",
       "<tr>\n",
       "  <th>Df Model:</th>               <td>    12</td>       <th>                     </th>      <td> </td>     \n",
       "</tr>\n",
       "<tr>\n",
       "  <th>Covariance Type:</th>       <td>nonrobust</td>     <th>                     </th>      <td> </td>     \n",
       "</tr>\n",
       "</table>\n",
       "<table class=\"simpletable\">\n",
       "<tr>\n",
       "    <td></td>       <th>coef</th>     <th>std err</th>      <th>t</th>      <th>P>|t|</th>  <th>[0.025</th>    <th>0.975]</th>  \n",
       "</tr>\n",
       "<tr>\n",
       "  <th>const</th> <td> 1.922e+05</td> <td>  526.686</td> <td>  364.991</td> <td> 0.000</td> <td> 1.91e+05</td> <td> 1.93e+05</td>\n",
       "</tr>\n",
       "<tr>\n",
       "  <th>x1</th>    <td>-4.851e+04</td> <td> 2225.292</td> <td>  -21.799</td> <td> 0.000</td> <td>-5.29e+04</td> <td>-4.41e+04</td>\n",
       "</tr>\n",
       "<tr>\n",
       "  <th>x2</th>    <td>-4.668e+04</td> <td> 2353.060</td> <td>  -19.837</td> <td> 0.000</td> <td>-5.13e+04</td> <td>-4.21e+04</td>\n",
       "</tr>\n",
       "<tr>\n",
       "  <th>x3</th>    <td> 1.248e+04</td> <td>  614.788</td> <td>   20.306</td> <td> 0.000</td> <td> 1.13e+04</td> <td> 1.37e+04</td>\n",
       "</tr>\n",
       "<tr>\n",
       "  <th>x4</th>    <td> 8662.3788</td> <td>  565.657</td> <td>   15.314</td> <td> 0.000</td> <td> 7553.617</td> <td> 9771.140</td>\n",
       "</tr>\n",
       "<tr>\n",
       "  <th>x5</th>    <td> 6.279e+04</td> <td>  810.922</td> <td>   77.431</td> <td> 0.000</td> <td> 6.12e+04</td> <td> 6.44e+04</td>\n",
       "</tr>\n",
       "<tr>\n",
       "  <th>x6</th>    <td> -1.26e+04</td> <td> 1238.125</td> <td>  -10.174</td> <td> 0.000</td> <td> -1.5e+04</td> <td>-1.02e+04</td>\n",
       "</tr>\n",
       "<tr>\n",
       "  <th>x7</th>    <td> 1.661e+04</td> <td> 1105.506</td> <td>   15.025</td> <td> 0.000</td> <td> 1.44e+04</td> <td> 1.88e+04</td>\n",
       "</tr>\n",
       "<tr>\n",
       "  <th>x8</th>    <td>-3816.3609</td> <td>  528.548</td> <td>   -7.220</td> <td> 0.000</td> <td>-4852.385</td> <td>-2780.337</td>\n",
       "</tr>\n",
       "<tr>\n",
       "  <th>x9</th>    <td>-1.715e+04</td> <td>  890.109</td> <td>  -19.264</td> <td> 0.000</td> <td>-1.89e+04</td> <td>-1.54e+04</td>\n",
       "</tr>\n",
       "<tr>\n",
       "  <th>x10</th>   <td> 3171.3774</td> <td>  527.398</td> <td>    6.013</td> <td> 0.000</td> <td> 2137.608</td> <td> 4205.146</td>\n",
       "</tr>\n",
       "<tr>\n",
       "  <th>x11</th>   <td> -531.7540</td> <td>  648.004</td> <td>   -0.821</td> <td> 0.412</td> <td>-1801.927</td> <td>  738.419</td>\n",
       "</tr>\n",
       "<tr>\n",
       "  <th>x12</th>   <td> 3418.0811</td> <td>  573.832</td> <td>    5.957</td> <td> 0.000</td> <td> 2293.294</td> <td> 4542.868</td>\n",
       "</tr>\n",
       "</table>\n",
       "<table class=\"simpletable\">\n",
       "<tr>\n",
       "  <th>Omnibus:</th>       <td>2973.358</td> <th>  Durbin-Watson:     </th> <td>   1.993</td>\n",
       "</tr>\n",
       "<tr>\n",
       "  <th>Prob(Omnibus):</th>  <td> 0.000</td>  <th>  Jarque-Bera (JB):  </th> <td>7444.316</td>\n",
       "</tr>\n",
       "<tr>\n",
       "  <th>Skew:</th>           <td> 1.155</td>  <th>  Prob(JB):          </th> <td>    0.00</td>\n",
       "</tr>\n",
       "<tr>\n",
       "  <th>Kurtosis:</th>       <td> 5.699</td>  <th>  Cond. No.          </th> <td>    9.44</td>\n",
       "</tr>\n",
       "</table><br/><br/>Notes:<br/>[1] Standard Errors assume that the covariance matrix of the errors is correctly specified."
      ],
      "text/plain": [
       "<class 'statsmodels.iolib.summary.Summary'>\n",
       "\"\"\"\n",
       "                            OLS Regression Results                            \n",
       "==============================================================================\n",
       "Dep. Variable:     median_house_value   R-squared:                       0.589\n",
       "Model:                            OLS   Adj. R-squared:                  0.589\n",
       "Method:                 Least Squares   F-statistic:                     1691.\n",
       "Date:                Thu, 27 Oct 2022   Prob (F-statistic):               0.00\n",
       "Time:                        11:38:42   Log-Likelihood:            -1.7645e+05\n",
       "No. Observations:               14157   AIC:                         3.529e+05\n",
       "Df Residuals:                   14144   BIC:                         3.530e+05\n",
       "Df Model:                          12                                         \n",
       "Covariance Type:            nonrobust                                         \n",
       "==============================================================================\n",
       "                 coef    std err          t      P>|t|      [0.025      0.975]\n",
       "------------------------------------------------------------------------------\n",
       "const       1.922e+05    526.686    364.991      0.000    1.91e+05    1.93e+05\n",
       "x1         -4.851e+04   2225.292    -21.799      0.000   -5.29e+04   -4.41e+04\n",
       "x2         -4.668e+04   2353.060    -19.837      0.000   -5.13e+04   -4.21e+04\n",
       "x3          1.248e+04    614.788     20.306      0.000    1.13e+04    1.37e+04\n",
       "x4          8662.3788    565.657     15.314      0.000    7553.617    9771.140\n",
       "x5          6.279e+04    810.922     77.431      0.000    6.12e+04    6.44e+04\n",
       "x6          -1.26e+04   1238.125    -10.174      0.000    -1.5e+04   -1.02e+04\n",
       "x7          1.661e+04   1105.506     15.025      0.000    1.44e+04    1.88e+04\n",
       "x8         -3816.3609    528.548     -7.220      0.000   -4852.385   -2780.337\n",
       "x9         -1.715e+04    890.109    -19.264      0.000   -1.89e+04   -1.54e+04\n",
       "x10         3171.3774    527.398      6.013      0.000    2137.608    4205.146\n",
       "x11         -531.7540    648.004     -0.821      0.412   -1801.927     738.419\n",
       "x12         3418.0811    573.832      5.957      0.000    2293.294    4542.868\n",
       "==============================================================================\n",
       "Omnibus:                     2973.358   Durbin-Watson:                   1.993\n",
       "Prob(Omnibus):                  0.000   Jarque-Bera (JB):             7444.316\n",
       "Skew:                           1.155   Prob(JB):                         0.00\n",
       "Kurtosis:                       5.699   Cond. No.                         9.44\n",
       "==============================================================================\n",
       "\n",
       "Notes:\n",
       "[1] Standard Errors assume that the covariance matrix of the errors is correctly specified.\n",
       "\"\"\""
      ]
     },
     "execution_count": 31,
     "metadata": {},
     "output_type": "execute_result"
    }
   ],
   "source": [
    "model.summary()"
   ]
  },
  {
   "cell_type": "markdown",
   "metadata": {},
   "source": [
    "#### Defining a scoring function"
   ]
  },
  {
   "cell_type": "code",
   "execution_count": 32,
   "metadata": {},
   "outputs": [],
   "source": [
    "def get_scores(X, y_true, model) -> tuple:\n",
    "    y_pred = model.predict(X)\n",
    "    r2 = r2_score(y_true, y_pred)\n",
    "    mse = mean_squared_error(y_true, y_pred)\n",
    "    rmse = np.sqrt(mse)\n",
    "    mae = mean_absolute_error(y_true, y_pred)\n",
    "    print('r2 score:', r2)\n",
    "    print('mean squared error:', mse)\n",
    "    print('root mean squared error:', rmse)\n",
    "    print('mean absolute error:', mae)\n",
    "    return (r2, mse, rmse, mae)"
   ]
  },
  {
   "cell_type": "code",
   "execution_count": 33,
   "metadata": {},
   "outputs": [],
   "source": [
    "def evaluate_model(model, X_scaled: bool = True, y_scaled: bool = False):\n",
    "    \n",
    "    print('Evaluating model...')\n",
    "    \n",
    "    if X_scaled:\n",
    "        train_data = X_train_scaled\n",
    "        test_data = X_test_scaled\n",
    "    else:\n",
    "        train_data = X_train\n",
    "        test_data = X_test\n",
    "    if y_scaled:\n",
    "        train_labels = y_train_scaled\n",
    "        test_labels = y_test_scaled\n",
    "    else:\n",
    "        train_labels = y_train\n",
    "        test_labels = y_test\n",
    "\n",
    "    print('Train scores:')\n",
    "    get_scores(train_data, train_labels, model)\n",
    "    print('Test scores:')\n",
    "    get_scores(test_data, test_labels, model)"
   ]
  },
  {
   "cell_type": "markdown",
   "metadata": {},
   "source": [
    "#### Linear Regression"
   ]
  },
  {
   "cell_type": "code",
   "execution_count": 34,
   "metadata": {},
   "outputs": [
    {
     "data": {
      "text/plain": [
       "LinearRegression()"
      ]
     },
     "execution_count": 34,
     "metadata": {},
     "output_type": "execute_result"
    }
   ],
   "source": [
    "lr = LinearRegression()\n",
    "lr.fit(X_train_scaled, y_train)"
   ]
  },
  {
   "cell_type": "code",
   "execution_count": 35,
   "metadata": {},
   "outputs": [
    {
     "name": "stdout",
     "output_type": "stream",
     "text": [
      "coef: [[-48509.8455184  -46678.42726814  12483.6318459    8662.37875907\n",
      "   62790.22694134 -12596.47275045  16610.18028381  -3816.36086324\n",
      "  -17146.80807111   3171.37740019   -531.75404236   3418.08106051]]\n",
      "intercept: [192235.60754397]\n"
     ]
    }
   ],
   "source": [
    "print(f'coef: {lr.coef_}')\n",
    "print(f'intercept: {lr.intercept_}')"
   ]
  },
  {
   "cell_type": "code",
   "execution_count": 36,
   "metadata": {},
   "outputs": [
    {
     "name": "stdout",
     "output_type": "stream",
     "text": [
      "Evaluating model...\n",
      "Train scores:\n",
      "r2 score: 0.5893221981298387\n",
      "mean squared error: 3923524567.5087767\n",
      "root mean squared error: 62638.04409070239\n",
      "mean absolute error: 46479.94056516142\n",
      "Test scores:\n",
      "r2 score: 0.5368911511578378\n",
      "mean squared error: 4420772337.47243\n",
      "root mean squared error: 66488.88882717495\n",
      "mean absolute error: 46761.30477223686\n"
     ]
    }
   ],
   "source": [
    "evaluate_model(lr)"
   ]
  },
  {
   "cell_type": "markdown",
   "metadata": {},
   "source": [
    "#### Lasso Regression"
   ]
  },
  {
   "cell_type": "code",
   "execution_count": 39,
   "metadata": {},
   "outputs": [
    {
     "data": {
      "text/plain": [
       "Lasso(alpha=1)"
      ]
     },
     "execution_count": 39,
     "metadata": {},
     "output_type": "execute_result"
    }
   ],
   "source": [
    "lasso = Lasso(alpha=1)\n",
    "lasso.fit(X_train_scaled, y_train)"
   ]
  },
  {
   "cell_type": "code",
   "execution_count": 40,
   "metadata": {},
   "outputs": [
    {
     "name": "stdout",
     "output_type": "stream",
     "text": [
      "coef: [-48480.9716467  -46649.46565414  12482.31442471   8661.41195302\n",
      "  62785.42004843 -12587.20853495  16600.09172794  -3815.19342123\n",
      " -17155.14811508   3170.68334536   -528.78328817   3418.85583596]\n",
      "intercept: [192235.60754397]\n"
     ]
    }
   ],
   "source": [
    "print(f'coef: {lasso.coef_}')\n",
    "print(f'intercept: {lasso.intercept_}')"
   ]
  },
  {
   "cell_type": "code",
   "execution_count": 41,
   "metadata": {},
   "outputs": [
    {
     "name": "stdout",
     "output_type": "stream",
     "text": [
      "Evaluating model...\n",
      "Train scores:\n",
      "r2 score: 0.5893221896826284\n",
      "mean squared error: 3923524648.2115483\n",
      "root mean squared error: 62638.04473490171\n",
      "mean absolute error: 46479.71603070655\n",
      "Test scores:\n",
      "r2 score: 0.5369546339818794\n",
      "mean squared error: 4420166339.307789\n",
      "root mean squared error: 66484.3315323828\n",
      "mean absolute error: 46760.45285869225\n"
     ]
    }
   ],
   "source": [
    "evaluate_model(lasso)"
   ]
  },
  {
   "cell_type": "markdown",
   "metadata": {},
   "source": [
    "#### Ridge Regression"
   ]
  },
  {
   "cell_type": "code",
   "execution_count": 44,
   "metadata": {},
   "outputs": [
    {
     "data": {
      "text/plain": [
       "Ridge(alpha=1)"
      ]
     },
     "execution_count": 44,
     "metadata": {},
     "output_type": "execute_result"
    }
   ],
   "source": [
    "ridge = Ridge(alpha=1)\n",
    "ridge.fit(X_train_scaled, y_train)"
   ]
  },
  {
   "cell_type": "code",
   "execution_count": 45,
   "metadata": {},
   "outputs": [
    {
     "name": "stdout",
     "output_type": "stream",
     "text": [
      "coef: [[-48401.03541531 -46564.55009375  12484.05543455   8662.96853207\n",
      "   62782.99208452 -12584.30132512  16593.51604554  -3815.97046616\n",
      "  -17178.33332738   3172.06165469   -527.55079223   3423.46903179]]\n",
      "intercept: [192235.60754397]\n"
     ]
    }
   ],
   "source": [
    "print(f'coef: {ridge.coef_}')\n",
    "print(f'intercept: {ridge.intercept_}')"
   ]
  },
  {
   "cell_type": "code",
   "execution_count": 46,
   "metadata": {},
   "outputs": [
    {
     "name": "stdout",
     "output_type": "stream",
     "text": [
      "Evaluating model...\n",
      "Train scores:\n",
      "r2 score: 0.589322117656726\n",
      "mean squared error: 3923525336.3310323\n",
      "root mean squared error: 62638.05022772526\n",
      "mean absolute error: 46478.97071300886\n",
      "Test scores:\n",
      "r2 score: 0.5370035545610181\n",
      "mean squared error: 4419699350.297473\n",
      "root mean squared error: 66480.8194165616\n",
      "mean absolute error: 46758.9607358752\n"
     ]
    }
   ],
   "source": [
    "evaluate_model(ridge)"
   ]
  },
  {
   "cell_type": "markdown",
   "metadata": {},
   "source": [
    "#### KNN Regression"
   ]
  },
  {
   "cell_type": "code",
   "execution_count": 47,
   "metadata": {},
   "outputs": [],
   "source": [
    "from sklearn.neighbors import KNeighborsRegressor"
   ]
  },
  {
   "cell_type": "markdown",
   "metadata": {},
   "source": [
    "##### Selecting the best value of n_neighbors"
   ]
  },
  {
   "cell_type": "markdown",
   "metadata": {},
   "source": [
    "Elbow method"
   ]
  },
  {
   "cell_type": "code",
   "execution_count": 48,
   "metadata": {},
   "outputs": [],
   "source": [
    "rmse_vals = []\n",
    "for k in range(20):\n",
    "    k = k+1\n",
    "    knn = KNeighborsRegressor(n_neighbors=k)\n",
    "    knn.fit(X_train_scaled, y_train)\n",
    "    y_pred = knn.predict(X_test_scaled)\n",
    "    rmse = np.sqrt(mean_squared_error(y_test, y_pred))\n",
    "    rmse_vals.append(rmse)"
   ]
  },
  {
   "cell_type": "code",
   "execution_count": 49,
   "metadata": {},
   "outputs": [
    {
     "data": {
      "text/plain": [
       "<AxesSubplot:>"
      ]
     },
     "execution_count": 49,
     "metadata": {},
     "output_type": "execute_result"
    },
    {
     "data": {
      "image/png": "[encoded data removed]",
      "text/plain": [
       "<Figure size 432x288 with 1 Axes>"
      ]
     },
     "metadata": {
      "needs_background": "light"
     },
     "output_type": "display_data"
    }
   ],
   "source": [
    "pd.DataFrame(rmse_vals).plot()"
   ]
  },
  {
   "cell_type": "markdown",
   "metadata": {},
   "source": [
    "GridSearch"
   ]
  },
  {
   "cell_type": "code",
   "execution_count": 50,
   "metadata": {},
   "outputs": [],
   "source": [
    "from sklearn.model_selection import GridSearchCV"
   ]
  },
  {
   "cell_type": "code",
   "execution_count": 51,
   "metadata": {},
   "outputs": [],
   "source": [
    "params = {'n_neighbors': [x for x in range(2,20)]}\n",
    "model = GridSearchCV(KNeighborsRegressor(), params)"
   ]
  },
  {
   "cell_type": "code",
   "execution_count": 52,
   "metadata": {},
   "outputs": [
    {
     "data": {
      "text/plain": [
       "GridSearchCV(estimator=KNeighborsRegressor(),\n",
       "             param_grid={'n_neighbors': [2, 3, 4, 5, 6, 7, 8, 9, 10, 11, 12, 13,\n",
       "                                         14, 15, 16, 17, 18, 19]})"
      ]
     },
     "execution_count": 52,
     "metadata": {},
     "output_type": "execute_result"
    }
   ],
   "source": [
    "model.fit(X_train_scaled, y_train)"
   ]
  },
  {
   "cell_type": "code",
   "execution_count": 53,
   "metadata": {},
   "outputs": [
    {
     "data": {
      "text/plain": [
       "{'n_neighbors': 14}"
      ]
     },
     "execution_count": 53,
     "metadata": {},
     "output_type": "execute_result"
    }
   ],
   "source": [
    "model.best_params_"
   ]
  },
  {
   "cell_type": "code",
   "execution_count": 54,
   "metadata": {},
   "outputs": [
    {
     "data": {
      "text/plain": [
       "{'cv': None,\n",
       " 'error_score': nan,\n",
       " 'estimator__algorithm': 'auto',\n",
       " 'estimator__leaf_size': 30,\n",
       " 'estimator__metric': 'minkowski',\n",
       " 'estimator__metric_params': None,\n",
       " 'estimator__n_jobs': None,\n",
       " 'estimator__n_neighbors': 5,\n",
       " 'estimator__p': 2,\n",
       " 'estimator__weights': 'uniform',\n",
       " 'estimator': KNeighborsRegressor(),\n",
       " 'n_jobs': None,\n",
       " 'param_grid': {'n_neighbors': [2,\n",
       "   3,\n",
       "   4,\n",
       "   5,\n",
       "   6,\n",
       "   7,\n",
       "   8,\n",
       "   9,\n",
       "   10,\n",
       "   11,\n",
       "   12,\n",
       "   13,\n",
       "   14,\n",
       "   15,\n",
       "   16,\n",
       "   17,\n",
       "   18,\n",
       "   19]},\n",
       " 'pre_dispatch': '2*n_jobs',\n",
       " 'refit': True,\n",
       " 'return_train_score': False,\n",
       " 'scoring': None,\n",
       " 'verbose': 0}"
      ]
     },
     "execution_count": 54,
     "metadata": {},
     "output_type": "execute_result"
    }
   ],
   "source": [
    "model.get_params()"
   ]
  },
  {
   "cell_type": "code",
   "execution_count": 55,
   "metadata": {},
   "outputs": [
    {
     "name": "stdout",
     "output_type": "stream",
     "text": [
      "Evaluating model...\n",
      "Train scores:\n",
      "r2 score: 0.7132459112343876\n",
      "mean squared error: 2739584917.8650665\n",
      "root mean squared error: 52341.04429475081\n",
      "mean absolute error: 36569.16290779927\n",
      "Test scores:\n",
      "r2 score: 0.6794110397075348\n",
      "mean squared error: 3060297402.8747363\n",
      "root mean squared error: 55319.95483435192\n",
      "mean absolute error: 38697.43343422115\n"
     ]
    }
   ],
   "source": [
    "evaluate_model(model)"
   ]
  },
  {
   "cell_type": "markdown",
   "metadata": {},
   "source": [
    "#### Support Vector Regression"
   ]
  },
  {
   "cell_type": "code",
   "execution_count": 56,
   "metadata": {},
   "outputs": [],
   "source": [
    "from sklearn.svm import SVR"
   ]
  },
  {
   "cell_type": "code",
   "execution_count": 57,
   "metadata": {},
   "outputs": [
    {
     "data": {
      "text/plain": [
       "SVR()"
      ]
     },
     "execution_count": 57,
     "metadata": {},
     "output_type": "execute_result"
    }
   ],
   "source": [
    "svr = SVR()\n",
    "svr.fit(X_train_scaled, y_train_scaled.ravel())"
   ]
  },
  {
   "cell_type": "code",
   "execution_count": 58,
   "metadata": {},
   "outputs": [
    {
     "data": {
      "text/plain": [
       "{'C': 1.0,\n",
       " 'cache_size': 200,\n",
       " 'coef0': 0.0,\n",
       " 'degree': 3,\n",
       " 'epsilon': 0.1,\n",
       " 'gamma': 'scale',\n",
       " 'kernel': 'rbf',\n",
       " 'max_iter': -1,\n",
       " 'shrinking': True,\n",
       " 'tol': 0.001,\n",
       " 'verbose': False}"
      ]
     },
     "execution_count": 58,
     "metadata": {},
     "output_type": "execute_result"
    }
   ],
   "source": [
    "svr.get_params()"
   ]
  },
  {
   "cell_type": "code",
   "execution_count": 59,
   "metadata": {},
   "outputs": [
    {
     "name": "stdout",
     "output_type": "stream",
     "text": [
      "Evaluating model...\n",
      "Train scores:\n",
      "r2 score: 0.7188264095152606\n",
      "mean squared error: 0.28117359048473944\n",
      "root mean squared error: 0.530258041414498\n",
      "mean absolute error: 0.3574623487473692\n",
      "Test scores:\n",
      "r2 score: 0.7207692819309697\n",
      "mean squared error: 0.27899930172499227\n",
      "root mean squared error: 0.5282038448600997\n",
      "mean absolute error: 0.3597414382863246\n"
     ]
    }
   ],
   "source": [
    "evaluate_model(svr, y_scaled=True)"
   ]
  },
  {
   "cell_type": "code",
   "execution_count": null,
   "metadata": {},
   "outputs": [],
   "source": [
    "# params = {'kernel': ['linear','poly','rbf','sigmoid'], 'C': [1,5,10], 'coef0':[0,1,5], 'degree':[3,5]}\n",
    "# model = GridSearchCV(SVR(), params, cv=3, verbose=3)"
   ]
  },
  {
   "cell_type": "code",
   "execution_count": null,
   "metadata": {},
   "outputs": [],
   "source": [
    "# model.fit(X_train_scaled, y_train_scaled.ravel())"
   ]
  },
  {
   "cell_type": "code",
   "execution_count": null,
   "metadata": {},
   "outputs": [],
   "source": [
    "# model.best_params_"
   ]
  },
  {
   "cell_type": "markdown",
   "metadata": {},
   "source": [
    "#### Decision Tree Regression"
   ]
  },
  {
   "cell_type": "code",
   "execution_count": 65,
   "metadata": {},
   "outputs": [],
   "source": [
    "from sklearn.tree import DecisionTreeRegressor"
   ]
  },
  {
   "cell_type": "code",
   "execution_count": 68,
   "metadata": {},
   "outputs": [
    {
     "data": {
      "text/plain": [
       "DecisionTreeRegressor(min_samples_leaf=25)"
      ]
     },
     "execution_count": 68,
     "metadata": {},
     "output_type": "execute_result"
    }
   ],
   "source": [
    "tree = DecisionTreeRegressor(min_samples_leaf=25)\n",
    "tree.fit(X_train, y_train)"
   ]
  },
  {
   "cell_type": "code",
   "execution_count": 69,
   "metadata": {},
   "outputs": [
    {
     "name": "stdout",
     "output_type": "stream",
     "text": [
      "Evaluating model...\n",
      "Train scores:\n",
      "r2 score: 0.7816865675862933\n",
      "mean squared error: 2085718077.7527194\n",
      "root mean squared error: 45669.66255352364\n",
      "mean absolute error: 31578.274185784656\n",
      "Test scores:\n",
      "r2 score: 0.7309137578749543\n",
      "mean squared error: 2568659654.3229575\n",
      "root mean squared error: 50681.946039225426\n",
      "mean absolute error: 35328.60174663322\n"
     ]
    }
   ],
   "source": [
    "evaluate_model(tree, X_scaled=False)"
   ]
  },
  {
   "cell_type": "markdown",
   "metadata": {},
   "source": [
    "#### Random Forest Regression"
   ]
  },
  {
   "cell_type": "code",
   "execution_count": 70,
   "metadata": {},
   "outputs": [],
   "source": [
    "from sklearn.ensemble import RandomForestRegressor"
   ]
  },
  {
   "cell_type": "code",
   "execution_count": 71,
   "metadata": {},
   "outputs": [],
   "source": [
    "params = {\n",
    "    'n_estimators': [50,100,150],\n",
    "    'min_samples_leaf': [5,10,25,50],\n",
    "    'max_features': ['auto','sqrt'],\n",
    "    'max_samples': [None, 0.7]\n",
    "}\n",
    "model = GridSearchCV(RandomForestRegressor(), params)"
   ]
  },
  {
   "cell_type": "code",
   "execution_count": 72,
   "metadata": {},
   "outputs": [
    {
     "data": {
      "text/plain": [
       "GridSearchCV(estimator=RandomForestRegressor(),\n",
       "             param_grid={'max_features': ['auto', 'sqrt'],\n",
       "                         'max_samples': [None, 0.7],\n",
       "                         'min_samples_leaf': [5, 10, 25, 50],\n",
       "                         'n_estimators': [50, 100, 150]})"
      ]
     },
     "execution_count": 72,
     "metadata": {},
     "output_type": "execute_result"
    }
   ],
   "source": [
    "model.fit(X_train, y_train.values.ravel())"
   ]
  },
  {
   "cell_type": "code",
   "execution_count": 73,
   "metadata": {},
   "outputs": [
    {
     "data": {
      "text/plain": [
       "{'max_features': 'sqrt',\n",
       " 'max_samples': None,\n",
       " 'min_samples_leaf': 5,\n",
       " 'n_estimators': 150}"
      ]
     },
     "execution_count": 73,
     "metadata": {},
     "output_type": "execute_result"
    }
   ],
   "source": [
    "model.best_params_"
   ]
  },
  {
   "cell_type": "code",
   "execution_count": 74,
   "metadata": {},
   "outputs": [
    {
     "data": {
      "text/plain": [
       "{'cv': None,\n",
       " 'error_score': nan,\n",
       " 'estimator__bootstrap': True,\n",
       " 'estimator__ccp_alpha': 0.0,\n",
       " 'estimator__criterion': 'mse',\n",
       " 'estimator__max_depth': None,\n",
       " 'estimator__max_features': 'auto',\n",
       " 'estimator__max_leaf_nodes': None,\n",
       " 'estimator__max_samples': None,\n",
       " 'estimator__min_impurity_decrease': 0.0,\n",
       " 'estimator__min_impurity_split': None,\n",
       " 'estimator__min_samples_leaf': 1,\n",
       " 'estimator__min_samples_split': 2,\n",
       " 'estimator__min_weight_fraction_leaf': 0.0,\n",
       " 'estimator__n_estimators': 100,\n",
       " 'estimator__n_jobs': None,\n",
       " 'estimator__oob_score': False,\n",
       " 'estimator__random_state': None,\n",
       " 'estimator__verbose': 0,\n",
       " 'estimator__warm_start': False,\n",
       " 'estimator': RandomForestRegressor(),\n",
       " 'n_jobs': None,\n",
       " 'param_grid': {'n_estimators': [50, 100, 150],\n",
       "  'min_samples_leaf': [5, 10, 25, 50],\n",
       "  'max_features': ['auto', 'sqrt'],\n",
       "  'max_samples': [None, 0.7]},\n",
       " 'pre_dispatch': '2*n_jobs',\n",
       " 'refit': True,\n",
       " 'return_train_score': False,\n",
       " 'scoring': None,\n",
       " 'verbose': 0}"
      ]
     },
     "execution_count": 74,
     "metadata": {},
     "output_type": "execute_result"
    }
   ],
   "source": [
    "model.get_params()"
   ]
  },
  {
   "cell_type": "code",
   "execution_count": 75,
   "metadata": {},
   "outputs": [
    {
     "name": "stdout",
     "output_type": "stream",
     "text": [
      "Evaluating model...\n",
      "Train scores:\n",
      "r2 score: 0.8760214027142187\n",
      "mean squared error: 1184464000.9294417\n",
      "root mean squared error: 34416.04278428073\n",
      "mean absolute error: 23077.160065937278\n",
      "Test scores:\n",
      "r2 score: 0.7964239904635859\n",
      "mean squared error: 1943308131.0833051\n",
      "root mean squared error: 44082.96871903371\n",
      "mean absolute error: 30172.411596155584\n"
     ]
    }
   ],
   "source": [
    "evaluate_model(model, X_scaled=False)"
   ]
  },
  {
   "cell_type": "markdown",
   "metadata": {},
   "source": [
    "#### Gradient Boosting Regression"
   ]
  },
  {
   "cell_type": "code",
   "execution_count": 76,
   "metadata": {},
   "outputs": [],
   "source": [
    "from sklearn.ensemble import GradientBoostingRegressor"
   ]
  },
  {
   "cell_type": "code",
   "execution_count": 77,
   "metadata": {},
   "outputs": [
    {
     "data": {
      "text/plain": [
       "GradientBoostingRegressor()"
      ]
     },
     "execution_count": 77,
     "metadata": {},
     "output_type": "execute_result"
    }
   ],
   "source": [
    "gbr = GradientBoostingRegressor()\n",
    "gbr.fit(X_train, y_train.values.ravel())"
   ]
  },
  {
   "cell_type": "code",
   "execution_count": 78,
   "metadata": {},
   "outputs": [
    {
     "name": "stdout",
     "output_type": "stream",
     "text": [
      "Evaluating model...\n",
      "Train scores:\n",
      "r2 score: 0.7688993516247682\n",
      "mean squared error: 2207884300.8760858\n",
      "root mean squared error: 46988.12936131939\n",
      "mean absolute error: 33175.560198581414\n",
      "Test scores:\n",
      "r2 score: 0.7640022126382272\n",
      "mean squared error: 2252801890.272676\n",
      "root mean squared error: 47463.69023024522\n",
      "mean absolute error: 33837.66199251865\n"
     ]
    }
   ],
   "source": [
    "evaluate_model(gbr, X_scaled=False)"
   ]
  },
  {
   "cell_type": "code",
   "execution_count": 79,
   "metadata": {},
   "outputs": [],
   "source": [
    "params = {\n",
    "    'learning_rate': [0.5, 0.1],\n",
    "    'n_estimators': [100, 150, 200],\n",
    "    'min_samples_leaf': [10, 25, 50]\n",
    "}\n",
    "model = GridSearchCV(GradientBoostingRegressor(), params)"
   ]
  },
  {
   "cell_type": "code",
   "execution_count": 80,
   "metadata": {},
   "outputs": [
    {
     "data": {
      "text/plain": [
       "GridSearchCV(estimator=GradientBoostingRegressor(),\n",
       "             param_grid={'learning_rate': [0.5, 0.1],\n",
       "                         'min_samples_leaf': [10, 25, 50],\n",
       "                         'n_estimators': [100, 150, 200]})"
      ]
     },
     "execution_count": 80,
     "metadata": {},
     "output_type": "execute_result"
    }
   ],
   "source": [
    "model.fit(X_train, y_train.values.ravel())"
   ]
  },
  {
   "cell_type": "code",
   "execution_count": 81,
   "metadata": {},
   "outputs": [
    {
     "data": {
      "text/plain": [
       "{'learning_rate': 0.5, 'min_samples_leaf': 50, 'n_estimators': 200}"
      ]
     },
     "execution_count": 81,
     "metadata": {},
     "output_type": "execute_result"
    }
   ],
   "source": [
    "model.best_params_"
   ]
  },
  {
   "cell_type": "code",
   "execution_count": 82,
   "metadata": {},
   "outputs": [
    {
     "name": "stdout",
     "output_type": "stream",
     "text": [
      "Evaluating model...\n",
      "Train scores:\n",
      "r2 score: 0.8603436329859377\n",
      "mean squared error: 1334245933.1705782\n",
      "root mean squared error: 36527.33131739271\n",
      "mean absolute error: 25554.046773422666\n",
      "Test scores:\n",
      "r2 score: 0.8153539095285922\n",
      "mean squared error: 1762605769.7218332\n",
      "root mean squared error: 41983.39873952362\n",
      "mean absolute error: 29217.486123651986\n"
     ]
    }
   ],
   "source": [
    "evaluate_model(model, X_scaled=False)"
   ]
  },
  {
   "cell_type": "markdown",
   "metadata": {},
   "source": [
    "### Demonstrating Target Scaling Using TransformedTargetRegressor"
   ]
  },
  {
   "cell_type": "code",
   "execution_count": 83,
   "metadata": {},
   "outputs": [],
   "source": [
    "from sklearn.compose import TransformedTargetRegressor\n",
    "from sklearn.model_selection import RepeatedKFold"
   ]
  },
  {
   "cell_type": "markdown",
   "metadata": {},
   "source": [
    "#### Support Vector Regression"
   ]
  },
  {
   "cell_type": "code",
   "execution_count": 84,
   "metadata": {},
   "outputs": [],
   "source": [
    "pipeline = Pipeline(steps=[('scaler', StandardScaler()), ('model', SVR())])\n",
    "model = TransformedTargetRegressor(regressor=pipeline, transformer=StandardScaler())\n",
    "cv = RepeatedKFold(n_splits=5, n_repeats=3, random_state=2)"
   ]
  },
  {
   "cell_type": "code",
   "execution_count": 85,
   "metadata": {},
   "outputs": [],
   "source": [
    "scores = cross_val_score(model, X_train, y_train, scoring='neg_mean_absolute_error', cv=cv, n_jobs=-1, error_score='raise')"
   ]
  },
  {
   "cell_type": "code",
   "execution_count": 86,
   "metadata": {},
   "outputs": [
    {
     "data": {
      "text/plain": [
       "36371.34294836579"
      ]
     },
     "execution_count": 86,
     "metadata": {},
     "output_type": "execute_result"
    }
   ],
   "source": [
    "np.mean(np.absolute(scores))"
   ]
  },
  {
   "cell_type": "code",
   "execution_count": 87,
   "metadata": {},
   "outputs": [
    {
     "data": {
      "text/plain": [
       "35162.36197693975"
      ]
     },
     "execution_count": 87,
     "metadata": {},
     "output_type": "execute_result"
    }
   ],
   "source": [
    "model.fit(X_train, y_train)\n",
    "y_pred = model.predict(X_test)\n",
    "mean_absolute_error(y_test, y_pred)"
   ]
  },
  {
   "cell_type": "markdown",
   "metadata": {},
   "source": [
    "## Deep Learning"
   ]
  },
  {
   "cell_type": "markdown",
   "metadata": {},
   "source": [
    "### Artificial Neural Network - Multilayer Perceptron"
   ]
  },
  {
   "cell_type": "code",
   "execution_count": 88,
   "metadata": {},
   "outputs": [],
   "source": [
    "from tensorflow.keras import Model, Sequential\n",
    "from tensorflow.keras.optimizers import Adam\n",
    "from tensorflow.keras.layers import Dense, Dropout\n",
    "from tensorflow.keras.wrappers.scikit_learn import KerasRegressor\n",
    "from sklearn.model_selection import RandomizedSearchCV"
   ]
  },
  {
   "cell_type": "code",
   "execution_count": 89,
   "metadata": {},
   "outputs": [],
   "source": [
    "def baseline_model(layer1_nodes=256, layer2_nodes=512, layer3_nodes=512, dropout=0.2, learning_rate=0.01):\n",
    "       \n",
    "    model = Sequential()\n",
    "    \n",
    "    model.add(Dense(layer1_nodes, input_dim=12, kernel_initializer='normal', activation='relu'))\n",
    "    model.add(Dropout(dropout))\n",
    "    model.add(Dense(layer2_nodes, kernel_initializer='normal', activation='relu'))\n",
    "    model.add(Dropout(dropout))\n",
    "    model.add(Dense(layer3_nodes, kernel_initializer='normal', activation='relu'))\n",
    "    model.add(Dropout(dropout))\n",
    "    \n",
    "    model.add(Dense(1, kernel_initializer='normal'))\n",
    "\n",
    "    model.compile(\n",
    "        optimizer=Adam(learning_rate=learning_rate), \n",
    "        loss='mean_squared_error', \n",
    "        metrics=['mse']\n",
    "    )\n",
    "\n",
    "    return model"
   ]
  },
  {
   "cell_type": "code",
   "execution_count": 90,
   "metadata": {},
   "outputs": [
    {
     "name": "stderr",
     "output_type": "stream",
     "text": [
      "C:\\Users\\saran\\AppData\\Local\\Temp/ipykernel_12844/3970057668.py:1: DeprecationWarning: KerasRegressor is deprecated, use Sci-Keras (https://github.com/adriangb/scikeras) instead. See https://www.adriangb.com/scikeras/stable/migration.html for help migrating.\n",
      "  model = KerasRegressor(build_fn=baseline_model, verbose=0)\n"
     ]
    }
   ],
   "source": [
    "model = KerasRegressor(build_fn=baseline_model, verbose=0)\n",
    "params = {\n",
    "    'layer1_nodes': [64, 128],\n",
    "    'layer2_nodes': [128, 256],\n",
    "    'layer3_nodes': [128, 256],\n",
    "    'learning_rate': [0.1, 0.01],\n",
    "    'batch_size': [16, 32, 64],\n",
    "    'epochs': [100, 200]\n",
    "}"
   ]
  },
  {
   "cell_type": "code",
   "execution_count": 91,
   "metadata": {},
   "outputs": [
    {
     "name": "stdout",
     "output_type": "stream",
     "text": [
      "Fitting 3 folds for each of 10 candidates, totalling 30 fits\n",
      "[CV 1/3] END batch_size=16, epochs=100, layer1_nodes=64, layer2_nodes=128, layer3_nodes=128, learning_rate=0.1;, score=-60515.808 total time= 2.0min\n",
      "[CV 2/3] END batch_size=16, epochs=100, layer1_nodes=64, layer2_nodes=128, layer3_nodes=128, learning_rate=0.1;, score=-67331.382 total time= 1.8min\n",
      "[CV 3/3] END batch_size=16, epochs=100, layer1_nodes=64, layer2_nodes=128, layer3_nodes=128, learning_rate=0.1;, score=-63704.379 total time= 1.6min\n",
      "[CV 1/3] END batch_size=16, epochs=200, layer1_nodes=64, layer2_nodes=256, layer3_nodes=256, learning_rate=0.1;, score=-57792.126 total time= 4.4min\n",
      "[CV 2/3] END batch_size=16, epochs=200, layer1_nodes=64, layer2_nodes=256, layer3_nodes=256, learning_rate=0.1;, score=-64203.359 total time= 4.3min\n",
      "[CV 3/3] END batch_size=16, epochs=200, layer1_nodes=64, layer2_nodes=256, layer3_nodes=256, learning_rate=0.1;, score=-58224.269 total time= 4.5min\n",
      "[CV 1/3] END batch_size=16, epochs=200, layer1_nodes=64, layer2_nodes=256, layer3_nodes=256, learning_rate=0.01;, score=-46397.244 total time= 4.5min\n",
      "[CV 2/3] END batch_size=16, epochs=200, layer1_nodes=64, layer2_nodes=256, layer3_nodes=256, learning_rate=0.01;, score=-50092.025 total time= 4.5min\n",
      "[CV 3/3] END batch_size=16, epochs=200, layer1_nodes=64, layer2_nodes=256, layer3_nodes=256, learning_rate=0.01;, score=-48764.243 total time= 4.5min\n",
      "[CV 1/3] END batch_size=64, epochs=100, layer1_nodes=64, layer2_nodes=256, layer3_nodes=128, learning_rate=0.1;, score=-51004.157 total time=  43.2s\n",
      "[CV 2/3] END batch_size=64, epochs=100, layer1_nodes=64, layer2_nodes=256, layer3_nodes=128, learning_rate=0.1;, score=-54856.688 total time=  42.3s\n",
      "[CV 3/3] END batch_size=64, epochs=100, layer1_nodes=64, layer2_nodes=256, layer3_nodes=128, learning_rate=0.1;, score=-51299.977 total time=  42.4s\n",
      "[CV 1/3] END batch_size=64, epochs=100, layer1_nodes=128, layer2_nodes=256, layer3_nodes=128, learning_rate=0.1;, score=-53094.563 total time=  44.0s\n",
      "[CV 2/3] END batch_size=64, epochs=100, layer1_nodes=128, layer2_nodes=256, layer3_nodes=128, learning_rate=0.1;, score=-51996.338 total time=  50.8s\n",
      "[CV 3/3] END batch_size=64, epochs=100, layer1_nodes=128, layer2_nodes=256, layer3_nodes=128, learning_rate=0.1;, score=-51590.434 total time=  49.4s\n",
      "[CV 1/3] END batch_size=16, epochs=100, layer1_nodes=128, layer2_nodes=256, layer3_nodes=128, learning_rate=0.1;, score=-75229.773 total time= 2.2min\n",
      "[CV 2/3] END batch_size=16, epochs=100, layer1_nodes=128, layer2_nodes=256, layer3_nodes=128, learning_rate=0.1;, score=-70129.042 total time= 2.2min\n",
      "[CV 3/3] END batch_size=16, epochs=100, layer1_nodes=128, layer2_nodes=256, layer3_nodes=128, learning_rate=0.1;, score=-53036.004 total time= 2.2min\n",
      "[CV 1/3] END batch_size=32, epochs=100, layer1_nodes=64, layer2_nodes=256, layer3_nodes=256, learning_rate=0.1;, score=-49805.521 total time= 1.4min\n",
      "[CV 2/3] END batch_size=32, epochs=100, layer1_nodes=64, layer2_nodes=256, layer3_nodes=256, learning_rate=0.1;, score=-52287.730 total time= 1.4min\n",
      "[CV 3/3] END batch_size=32, epochs=100, layer1_nodes=64, layer2_nodes=256, layer3_nodes=256, learning_rate=0.1;, score=-54185.717 total time= 1.4min\n",
      "[CV 1/3] END batch_size=32, epochs=100, layer1_nodes=128, layer2_nodes=256, layer3_nodes=128, learning_rate=0.01;, score=-50883.886 total time= 1.5min\n",
      "[CV 2/3] END batch_size=32, epochs=100, layer1_nodes=128, layer2_nodes=256, layer3_nodes=128, learning_rate=0.01;, score=-53675.506 total time= 1.4min\n",
      "[CV 3/3] END batch_size=32, epochs=100, layer1_nodes=128, layer2_nodes=256, layer3_nodes=128, learning_rate=0.01;, score=-52887.417 total time= 1.4min\n",
      "[CV 1/3] END batch_size=64, epochs=100, layer1_nodes=64, layer2_nodes=256, layer3_nodes=128, learning_rate=0.01;, score=-51867.222 total time=  44.6s\n",
      "[CV 2/3] END batch_size=64, epochs=100, layer1_nodes=64, layer2_nodes=256, layer3_nodes=128, learning_rate=0.01;, score=-52116.377 total time=  43.3s\n",
      "[CV 3/3] END batch_size=64, epochs=100, layer1_nodes=64, layer2_nodes=256, layer3_nodes=128, learning_rate=0.01;, score=-53502.481 total time=  44.3s\n",
      "[CV 1/3] END batch_size=64, epochs=100, layer1_nodes=128, layer2_nodes=256, layer3_nodes=256, learning_rate=0.01;, score=-50943.086 total time=  49.0s\n",
      "[CV 2/3] END batch_size=64, epochs=100, layer1_nodes=128, layer2_nodes=256, layer3_nodes=256, learning_rate=0.01;, score=-51183.686 total time= 1.0min\n",
      "[CV 3/3] END batch_size=64, epochs=100, layer1_nodes=128, layer2_nodes=256, layer3_nodes=256, learning_rate=0.01;, score=-53864.277 total time= 1.0min\n"
     ]
    }
   ],
   "source": [
    "estimator = RandomizedSearchCV(estimator=model, n_iter=10, param_distributions=params, scoring='neg_root_mean_squared_error', cv=3, verbose=3)\n",
    "history = estimator.fit(X_train_scaled, y_train)"
   ]
  },
  {
   "cell_type": "code",
   "execution_count": 92,
   "metadata": {},
   "outputs": [
    {
     "name": "stdout",
     "output_type": "stream",
     "text": [
      "Best estimator: <keras.wrappers.scikit_learn.KerasRegressor object at 0x000002845C62AA30>\n",
      "Best params: {'learning_rate': 0.01, 'layer3_nodes': 256, 'layer2_nodes': 256, 'layer1_nodes': 64, 'epochs': 200, 'batch_size': 16}\n",
      "Best score: -48417.83716136846\n"
     ]
    }
   ],
   "source": [
    "print('Best estimator:', estimator.best_estimator_)\n",
    "print('Best params:', estimator.best_params_)\n",
    "print('Best score:', estimator.best_score_)"
   ]
  },
  {
   "cell_type": "code",
   "execution_count": 93,
   "metadata": {},
   "outputs": [],
   "source": [
    "results = pd.DataFrame(estimator.cv_results_).sort_values('rank_test_score')[['mean_test_score', 'std_test_score', 'params']]"
   ]
  },
  {
   "cell_type": "code",
   "execution_count": 94,
   "metadata": {},
   "outputs": [
    {
     "data": {
      "text/html": [
       "<div>\n",
       "<style scoped>\n",
       "    .dataframe tbody tr th:only-of-type {\n",
       "        vertical-align: middle;\n",
       "    }\n",
       "\n",
       "    .dataframe tbody tr th {\n",
       "        vertical-align: top;\n",
       "    }\n",
       "\n",
       "    .dataframe thead th {\n",
       "        text-align: right;\n",
       "    }\n",
       "</style>\n",
       "<table border=\"1\" class=\"dataframe\">\n",
       "  <thead>\n",
       "    <tr style=\"text-align: right;\">\n",
       "      <th></th>\n",
       "      <th>mean_test_score</th>\n",
       "      <th>std_test_score</th>\n",
       "      <th>params</th>\n",
       "    </tr>\n",
       "  </thead>\n",
       "  <tbody>\n",
       "    <tr>\n",
       "      <th>2</th>\n",
       "      <td>-48417.837161</td>\n",
       "      <td>1528.146563</td>\n",
       "      <td>{'learning_rate': 0.01, 'layer3_nodes': 256, '...</td>\n",
       "    </tr>\n",
       "    <tr>\n",
       "      <th>9</th>\n",
       "      <td>-51997.016629</td>\n",
       "      <td>1324.001049</td>\n",
       "      <td>{'learning_rate': 0.01, 'layer3_nodes': 256, '...</td>\n",
       "    </tr>\n",
       "    <tr>\n",
       "      <th>6</th>\n",
       "      <td>-52092.989333</td>\n",
       "      <td>1793.501415</td>\n",
       "      <td>{'learning_rate': 0.1, 'layer3_nodes': 256, 'l...</td>\n",
       "    </tr>\n",
       "    <tr>\n",
       "      <th>4</th>\n",
       "      <td>-52227.111832</td>\n",
       "      <td>635.370455</td>\n",
       "      <td>{'learning_rate': 0.1, 'layer3_nodes': 128, 'l...</td>\n",
       "    </tr>\n",
       "    <tr>\n",
       "      <th>3</th>\n",
       "      <td>-52386.940345</td>\n",
       "      <td>1750.545922</td>\n",
       "      <td>{'learning_rate': 0.1, 'layer3_nodes': 128, 'l...</td>\n",
       "    </tr>\n",
       "    <tr>\n",
       "      <th>7</th>\n",
       "      <td>-52482.269859</td>\n",
       "      <td>1175.129562</td>\n",
       "      <td>{'learning_rate': 0.01, 'layer3_nodes': 128, '...</td>\n",
       "    </tr>\n",
       "    <tr>\n",
       "      <th>8</th>\n",
       "      <td>-52495.360241</td>\n",
       "      <td>719.369666</td>\n",
       "      <td>{'learning_rate': 0.01, 'layer3_nodes': 128, '...</td>\n",
       "    </tr>\n",
       "    <tr>\n",
       "      <th>1</th>\n",
       "      <td>-60073.251137</td>\n",
       "      <td>2925.751049</td>\n",
       "      <td>{'learning_rate': 0.1, 'layer3_nodes': 256, 'l...</td>\n",
       "    </tr>\n",
       "    <tr>\n",
       "      <th>0</th>\n",
       "      <td>-63850.523110</td>\n",
       "      <td>2784.364995</td>\n",
       "      <td>{'learning_rate': 0.1, 'layer3_nodes': 128, 'l...</td>\n",
       "    </tr>\n",
       "    <tr>\n",
       "      <th>5</th>\n",
       "      <td>-66131.606162</td>\n",
       "      <td>9491.240014</td>\n",
       "      <td>{'learning_rate': 0.1, 'layer3_nodes': 128, 'l...</td>\n",
       "    </tr>\n",
       "  </tbody>\n",
       "</table>\n",
       "</div>"
      ],
      "text/plain": [
       "   mean_test_score  std_test_score  \\\n",
       "2    -48417.837161     1528.146563   \n",
       "9    -51997.016629     1324.001049   \n",
       "6    -52092.989333     1793.501415   \n",
       "4    -52227.111832      635.370455   \n",
       "3    -52386.940345     1750.545922   \n",
       "7    -52482.269859     1175.129562   \n",
       "8    -52495.360241      719.369666   \n",
       "1    -60073.251137     2925.751049   \n",
       "0    -63850.523110     2784.364995   \n",
       "5    -66131.606162     9491.240014   \n",
       "\n",
       "                                              params  \n",
       "2  {'learning_rate': 0.01, 'layer3_nodes': 256, '...  \n",
       "9  {'learning_rate': 0.01, 'layer3_nodes': 256, '...  \n",
       "6  {'learning_rate': 0.1, 'layer3_nodes': 256, 'l...  \n",
       "4  {'learning_rate': 0.1, 'layer3_nodes': 128, 'l...  \n",
       "3  {'learning_rate': 0.1, 'layer3_nodes': 128, 'l...  \n",
       "7  {'learning_rate': 0.01, 'layer3_nodes': 128, '...  \n",
       "8  {'learning_rate': 0.01, 'layer3_nodes': 128, '...  \n",
       "1  {'learning_rate': 0.1, 'layer3_nodes': 256, 'l...  \n",
       "0  {'learning_rate': 0.1, 'layer3_nodes': 128, 'l...  \n",
       "5  {'learning_rate': 0.1, 'layer3_nodes': 128, 'l...  "
      ]
     },
     "execution_count": 94,
     "metadata": {},
     "output_type": "execute_result"
    }
   ],
   "source": [
    "results.head(10)"
   ]
  },
  {
   "cell_type": "code",
   "execution_count": 95,
   "metadata": {},
   "outputs": [
    {
     "data": {
      "text/plain": [
       "48574.058924869605"
      ]
     },
     "execution_count": 95,
     "metadata": {},
     "output_type": "execute_result"
    }
   ],
   "source": [
    "np.sqrt(mean_squared_error(y_test, estimator.predict(X_test_scaled)))"
   ]
  },
  {
   "cell_type": "code",
   "execution_count": 96,
   "metadata": {},
   "outputs": [
    {
     "data": {
      "text/plain": [
       "0.7813998344848415"
      ]
     },
     "execution_count": 96,
     "metadata": {},
     "output_type": "execute_result"
    }
   ],
   "source": [
    "r2_score(y_train, estimator.predict(X_train_scaled))"
   ]
  },
  {
   "cell_type": "code",
   "execution_count": 97,
   "metadata": {},
   "outputs": [
    {
     "data": {
      "text/plain": [
       "0.7528311596674417"
      ]
     },
     "execution_count": 97,
     "metadata": {},
     "output_type": "execute_result"
    }
   ],
   "source": [
    "r2_score(y_test, estimator.predict(X_test_scaled))"
   ]
  },
  {
   "cell_type": "code",
   "execution_count": 98,
   "metadata": {},
   "outputs": [
    {
     "name": "stdout",
     "output_type": "stream",
     "text": [
      "Evaluating model...\n",
      "Train scores:\n",
      "r2 score: 0.7813998344848415\n",
      "mean squared error: 2088457462.1624458\n",
      "root mean squared error: 45699.644004767106\n",
      "mean absolute error: 33919.664205980254\n",
      "Test scores:\n",
      "r2 score: 0.7528311596674417\n",
      "mean squared error: 2359439200.4367046\n",
      "root mean squared error: 48574.058924869605\n",
      "mean absolute error: 35491.478863215045\n"
     ]
    }
   ],
   "source": [
    "evaluate_model(estimator)"
   ]
  },
  {
   "cell_type": "code",
   "execution_count": null,
   "metadata": {},
   "outputs": [],
   "source": [
    "# def plot_history(history, key):\n",
    "#   plt.plot(history.history[key])\n",
    "#   plt.plot(history.history['val_'+key])\n",
    "#   plt.xlabel(\"Epochs\")\n",
    "#   plt.ylabel(key)\n",
    "#   plt.legend([key, 'val_'+key])\n",
    "#   plt.show()\n",
    "\n",
    "# plot_history(history, 'mean_absolute_error')"
   ]
  },
  {
   "cell_type": "code",
   "execution_count": null,
   "metadata": {},
   "outputs": [],
   "source": [
    "# sns.pairplot(X)"
   ]
  }
 ],
 "metadata": {
  "kernelspec": {
   "display_name": "Python 3.9.7 ('base')",
   "language": "python",
   "name": "python3"
  },
  "language_info": {
   "codemirror_mode": {
    "name": "ipython",
    "version": 3
   },
   "file_extension": ".py",
   "mimetype": "text/x-python",
   "name": "python",
   "nbconvert_exporter": "python",
   "pygments_lexer": "ipython3",
   "version": "3.9.7"
  },
  "orig_nbformat": 4,
  "vscode": {
   "interpreter": {
    "hash": "acc40203db69822aee81a1f5c97f01141a9ea0bbdce4781554130f3bf494f49d"
   }
  }
 },
 "nbformat": 4,
 "nbformat_minor": 2
}
